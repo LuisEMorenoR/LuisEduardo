{
  "nbformat": 4,
  "nbformat_minor": 0,
  "metadata": {
    "colab": {
      "provenance": [],
      "authorship_tag": "ABX9TyN7chVIO8pyGdxB5eAmtn/O",
      "include_colab_link": true
    },
    "kernelspec": {
      "name": "python3",
      "display_name": "Python 3"
    },
    "language_info": {
      "name": "python"
    }
  },
  "cells": [
    {
      "cell_type": "markdown",
      "metadata": {
        "id": "view-in-github",
        "colab_type": "text"
      },
      "source": [
        "<a href=\"https://colab.research.google.com/github/LuisEMorenoR/LuisEduardo/blob/main/Untitled2.ipynb\" target=\"_parent\"><img src=\"https://colab.research.google.com/assets/colab-badge.svg\" alt=\"Open In Colab\"/></a>"
      ]
    },
    {
      "cell_type": "code",
      "execution_count": 5,
      "metadata": {
        "colab": {
          "base_uri": "https://localhost:8080/"
        },
        "id": "jmyY5k7vecQH",
        "outputId": "677d2a0e-6a72-481d-8a19-6c2a2ccfed68"
      },
      "outputs": [
        {
          "output_type": "stream",
          "name": "stdout",
          "text": [
            "La multiplicacion es:  200\n",
            "La suma es: 30\n"
          ]
        }
      ],
      "source": [
        "#multiplicacion\n",
        "\n",
        "numeroUno = 10\n",
        "numeroDos = 20\n",
        "\n",
        "Multiplicacion = numeroUno * numeroDos\n",
        "print(\"La multiplicacion es: \", Multiplicacion)\n",
        "\n",
        "#suma\n",
        "\n",
        "Suma = numeroUno + numeroDos\n",
        "print(\"La suma es:\", Suma)\n",
        "\n"
      ]
    },
    {
      "cell_type": "markdown",
      "source": [
        "Ejercicio 3"
      ],
      "metadata": {
        "id": "SB9dnljcihzA"
      }
    },
    {
      "cell_type": "code",
      "source": [
        "# pide al usuario ingresar dos numeros para realziar una suma\n",
        "\n",
        "NumeroUno = int(input(\"Ingrese un numero \"))\n",
        "NumeroDos = int(input(\"Ingrese un numero \"))\n",
        "\n",
        "Suma = NumeroUno + NumeroDos\n",
        "print(\"La suma es:\", Suma)\n",
        "\n",
        "#RESTA\n",
        "\n",
        "NumeroUno = int(input(\"Ingrese el primer numero \"))\n",
        "NumeroDos = int(input(\"Ingrese el segundo numero \"))\n",
        "\n",
        "\n",
        "Resta = NumeroUno - NumeroDos\n",
        "print(\"La resta es:\", Resta)"
      ],
      "metadata": {
        "colab": {
          "base_uri": "https://localhost:8080/"
        },
        "id": "HQcsimsaik6s",
        "outputId": "a813a252-2c73-4ee6-aeaf-3ed39dc12c4f"
      },
      "execution_count": 12,
      "outputs": [
        {
          "output_type": "stream",
          "name": "stdout",
          "text": [
            "Ingrese un numero 25\n",
            "Ingrese un numero 104\n",
            "La suma es: 129\n",
            "Ingrese el primer numero 41\n",
            "Ingrese el segundo numero 10\n",
            "La resta es: 31\n"
          ]
        }
      ]
    },
    {
      "cell_type": "markdown",
      "source": [
        "Ejercicio 4"
      ],
      "metadata": {
        "id": "q0oKyvKso0n2"
      }
    },
    {
      "cell_type": "code",
      "source": [
        "# Pide al usuario valos de la base y la altura, calcula el area usando\n",
        "# la formula area = (base/altura)/2\n",
        "\n",
        "Base = int(input(\"Ingrese valor de la base: \"))\n",
        "Altura = int(input(\"Ingrese valor de la altura: \"))\n",
        "\n",
        "Area = (Base*Altura) /2\n",
        "print(\"El area del triangulo es: \", Area)\n"
      ],
      "metadata": {
        "colab": {
          "base_uri": "https://localhost:8080/"
        },
        "id": "37M5qw8Yo3Bv",
        "outputId": "a16c989f-bbd7-4f8c-b3a5-cb8b398e51cd"
      },
      "execution_count": 16,
      "outputs": [
        {
          "output_type": "stream",
          "name": "stdout",
          "text": [
            "Ingrese valor de la base: 50\n",
            "Ingrese valor de la altura: 20\n",
            "El area del triangulo es:  500.0\n"
          ]
        }
      ]
    },
    {
      "cell_type": "markdown",
      "source": [],
      "metadata": {
        "id": "NLqlfw8okSR3"
      }
    }
  ]
}